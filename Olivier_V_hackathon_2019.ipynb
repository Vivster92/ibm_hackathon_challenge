{
 "cells": [
  {
   "cell_type": "markdown",
   "metadata": {
    "colab_type": "text",
    "id": "Rtr15LT2UIZs"
   },
   "source": [
    " **IBM Virus Species Jump Hackathon at Deep Learning IndabaX 2019 in Durban**"
   ]
  },
  {
   "cell_type": "markdown",
   "metadata": {
    "colab_type": "text",
    "id": "qiHH9xS8URXO"
   },
   "source": [
    "Goal: Predict whether an unknown animal virus could potentially infect humans given its genome (DNA or RNA) sequence.\n",
    "\n",
    "Importance:\n",
    "\n",
    "Many old and new dangerous viruses infecting humans emerge from animals. Emergence of new viruses is currently considered one of the biggest existential threats facing humanity. In 1918, a world-wide flu outbreak killed over 50 million people around the world. Ebola virus is thought to have come from bats, HIV virus is thought to have come from monkeys, SARS virus potentially came from birds, and many more. We can today sequence thousands of viruses in animals but it is hard to identify which of the tens of thousands of viruses present in wild and domestic animals could potentially cross over to infect humans. Thus, a computational model to predict whether an animal virus can infect humans would be of huge importance.\n",
    "\n",
    "Training Data: Genome sequences of 70 human viruses that can be easily transmitted from animals to humans, e.g. ebola (Class Label: Zoonotic) and sequences of another 70 viruses that cannot be easily transmitted from animals to humans (Class Label: Non-Zoonotic).\n",
    "\n",
    "The genome sequences are basically a string of 4 characters (AGCT) and the sequence of each virus ranges from 2000 letters to 10,000 characters. If you feel the training/test dataset is small, an option is to fragment each virus genome into smaller pieces which could easily create a training set of 5,000 to 10,000 samples in each class (i.e we can fragment each viral genome into 100 pieces).\n",
    "\n",
    "Test Data: 60 Genome sequences with the class label hidden from participants but provided to hackathon organizers (30 from each class).\n",
    "\n",
    "Evaluation: Participants will have to provide a deep learning model and their predictions for each provided test sample. Evaluation will be based on the follwing two criteria:\n",
    "\n",
    "    Most innovative model\n",
    "    Performance based on AUC/ precision-recall curves"
   ]
  },
  {
   "cell_type": "markdown",
   "metadata": {
    "colab_type": "text",
    "id": "RkEocJS8UaiN"
   },
   "source": [
    "Let's get started. Import all the necessary Python libraries."
   ]
  },
  {
   "cell_type": "code",
   "execution_count": 41,
   "metadata": {
    "colab": {
     "base_uri": "https://localhost:8080/",
     "height": 34
    },
    "colab_type": "code",
    "executionInfo": {
     "elapsed": 2892,
     "status": "ok",
     "timestamp": 1555068756353,
     "user": {
      "displayName": "Ndivhuwo Makondo",
      "photoUrl": "https://lh4.googleusercontent.com/-X1_J2aUPVDQ/AAAAAAAAAAI/AAAAAAAAEV0/vHfSwmTTQTw/s64/photo.jpg",
      "userId": "09220701882857986524"
     },
     "user_tz": -120
    },
    "id": "V8m3NsrAUQKv",
    "outputId": "122a8691-a556-4424-9b29-da0dbeb6154d"
   },
   "outputs": [],
   "source": [
    "import tensorflow as tf\n",
    "import numpy as np\n",
    "import pandas as pd\n",
    "import keras\n",
    "import string\n",
    "import re\n",
    "#import matplotlib\n",
    "import matplotlib.pyplot as plt\n",
    "import os\n",
    "\n",
    "os.environ['KMP_DUPLICATE_LIB_OK']='True'"
   ]
  },
  {
   "cell_type": "markdown",
   "metadata": {
    "colab_type": "text",
    "id": "Q975OWC7UlyW"
   },
   "source": [
    "Load the data uploaded to the current Colab instance under /content/sample_data/"
   ]
  },
  {
   "cell_type": "code",
   "execution_count": 42,
   "metadata": {
    "colab": {},
    "colab_type": "code",
    "id": "NkzFw1CRUewn"
   },
   "outputs": [],
   "source": [
    "with open(\"NonZoonoticVirusesTrain.fasta\") as f:\n",
    "    NonZoo_raw_data  = f.read()\n",
    "    \n",
    "with open(\"ZoonoticVirusesTrain.fasta\") as g:\n",
    "    Zoo_raw_data  = g.read()\n",
    "    \n",
    "with open(\"VirusesTestInput.fasta\") as h:\n",
    "    test_raw_data  = h.read()"
   ]
  },
  {
   "cell_type": "markdown",
   "metadata": {
    "colab_type": "text",
    "id": "lOqC51yjUwGy"
   },
   "source": [
    "Preprocessing the data."
   ]
  },
  {
   "cell_type": "code",
   "execution_count": 43,
   "metadata": {
    "colab": {},
    "colab_type": "code",
    "id": "CzxPC7IUUsUD"
   },
   "outputs": [],
   "source": [
    "NonZoodata = NonZoo_raw_data.split(\">\")\n",
    "Zoodata = Zoo_raw_data.split(\">\")\n",
    "testdata = test_raw_data.split(\">\")\n",
    "\n",
    "# dump the epmpy string in position [0]\n",
    "NonZoodata2 = NonZoodata[1:]\n",
    "Zoodata2 = Zoodata[1:]\n",
    "testdata2 = testdata[1:]"
   ]
  },
  {
   "cell_type": "markdown",
   "metadata": {
    "colab_type": "text",
    "id": "WXpO1KSlVAkM"
   },
   "source": [
    "Separate names and sequences into two lists."
   ]
  },
  {
   "cell_type": "code",
   "execution_count": 44,
   "metadata": {
    "colab": {},
    "colab_type": "code",
    "id": "3RvzaTzaU4Cu"
   },
   "outputs": [],
   "source": [
    "NonZoo_new_data = [x.split(\",\") for x in NonZoodata2]\n",
    "Zoo_new_data = [x.split(\",\") for x in Zoodata2]\n",
    "test_new_data = [x.split(\",\") for x in testdata2]\n",
    "\n",
    "NonZoo_id_name = []\n",
    "Zoo_id_name = []\n",
    "test_id_name = []\n",
    "NonZoo_genome_sequence = []\n",
    "Zoo_genome_sequence = []\n",
    "test_genome_sequence = []\n",
    "\n",
    "for x in NonZoo_new_data:\n",
    "    NonZoo_id_name.append(x[0])\n",
    "    NonZoo_genome_sequence.append(x[1])\n",
    "    \n",
    "for x in Zoo_new_data:\n",
    "    Zoo_id_name.append(x[0])\n",
    "    Zoo_genome_sequence.append(x[1])\n",
    "    \n",
    "for x in test_new_data:\n",
    "    test_id_name.append(x[0])\n",
    "    test_genome_sequence.append(x[1])"
   ]
  },
  {
   "cell_type": "markdown",
   "metadata": {
    "colab_type": "text",
    "id": "tAo0ulVpVOlh"
   },
   "source": [
    "Separate into ID, Description and Sequence. From the data, you can just plit the ID using the first occurance of a \"white space\"."
   ]
  },
  {
   "cell_type": "code",
   "execution_count": 45,
   "metadata": {
    "colab": {},
    "colab_type": "code",
    "id": "yy_b2MZ8VK4U"
   },
   "outputs": [],
   "source": [
    "def clean_id_names(text):\n",
    "    id_and_names = text.split(' ',1)\n",
    "    return id_and_names"
   ]
  },
  {
   "cell_type": "code",
   "execution_count": 46,
   "metadata": {
    "colab": {},
    "colab_type": "code",
    "id": "MXqUJjTEVU-H"
   },
   "outputs": [],
   "source": [
    "ZooID_Description = []\n",
    "NonZooID_Description = []\n",
    "testID_Description = []\n",
    "for x in Zoo_id_name:\n",
    "    ZooID_Description.append(clean_id_names(x))\n",
    "for x in NonZoo_id_name:\n",
    "    NonZooID_Description.append(clean_id_names(x)) \n",
    "for x in test_id_name:\n",
    "    testID_Description.append(clean_id_names(x))"
   ]
  },
  {
   "cell_type": "code",
   "execution_count": 47,
   "metadata": {
    "colab": {},
    "colab_type": "code",
    "id": "YtmclZ08VYR-"
   },
   "outputs": [],
   "source": [
    "Zoo_ID = []\n",
    "Zoo_Description = []\n",
    "\n",
    "for x in ZooID_Description:\n",
    "    Zoo_ID.append(x[0])\n",
    "    Zoo_Description.append(x[1])\n",
    "    \n",
    "NonZoo_ID = []\n",
    "NonZoo_Description = []\n",
    "\n",
    "for x in NonZooID_Description:\n",
    "    NonZoo_ID.append(x[0])\n",
    "    NonZoo_Description.append(x[1])\n",
    "    \n",
    "test_ID = []\n",
    "test_Description = []\n",
    "\n",
    "for x in testID_Description:\n",
    "    test_ID.append(x[0])\n",
    "    test_Description.append(x[1])"
   ]
  },
  {
   "cell_type": "markdown",
   "metadata": {
    "colab_type": "text",
    "id": "Gq1NK_AzVpIn"
   },
   "source": [
    "Clean the sequences."
   ]
  },
  {
   "cell_type": "code",
   "execution_count": 48,
   "metadata": {
    "colab": {},
    "colab_type": "code",
    "id": "3pmlU8AuVmiI"
   },
   "outputs": [],
   "source": [
    "def clean_text(text):\n",
    "    \n",
    "    remove_lower = lambda text: re.sub('[a-z]', '', text)\n",
    "    \n",
    "    text = remove_lower(text)\n",
    "    text = text.strip()\n",
    "    text = text.replace('\\n', '')\n",
    "    return text"
   ]
  },
  {
   "cell_type": "code",
   "execution_count": 49,
   "metadata": {
    "colab": {},
    "colab_type": "code",
    "id": "b5BcZVSuVtnD"
   },
   "outputs": [],
   "source": [
    "NonZoo_clean_sequences = []\n",
    "Zoo_clean_sequences = []\n",
    "test_clean_sequences = []\n",
    "for seq in NonZoo_genome_sequence:\n",
    "    NonZoo_clean_sequences.append(clean_text(seq))\n",
    "    \n",
    "for seq in Zoo_genome_sequence:\n",
    "    Zoo_clean_sequences.append(clean_text(seq))\n",
    "    \n",
    "for seq in test_genome_sequence:\n",
    "    test_clean_sequences.append(clean_text(seq))"
   ]
  },
  {
   "cell_type": "markdown",
   "metadata": {
    "colab_type": "text",
    "id": "8X2yPX0cV5xZ"
   },
   "source": [
    "Now we create two lists for classification, zeros and ones."
   ]
  },
  {
   "cell_type": "code",
   "execution_count": 50,
   "metadata": {
    "colab": {},
    "colab_type": "code",
    "id": "idqz4P1nVwn3"
   },
   "outputs": [],
   "source": [
    "def zerolistmaker(n):\n",
    "    listofzeros = [0] * n\n",
    "    return listofzeros\n",
    "\n",
    "def onelistmaker(n):\n",
    "    listofzeros = [1] * n\n",
    "    return listofzeros"
   ]
  },
  {
   "cell_type": "code",
   "execution_count": 51,
   "metadata": {
    "colab": {},
    "colab_type": "code",
    "id": "wRyHTQtDV_ws"
   },
   "outputs": [],
   "source": [
    "Zoolabels = zerolistmaker(len(Zoo_clean_sequences)) #Zootonic viruses as Class 0.\n",
    "NonZoolabels = onelistmaker(len(NonZoo_clean_sequences)) #NonZootonic viruses as Class 1."
   ]
  },
  {
   "cell_type": "markdown",
   "metadata": {
    "colab_type": "text",
    "id": "qzlHdAiiWPsU"
   },
   "source": [
    "Now merge the data and the labels."
   ]
  },
  {
   "cell_type": "code",
   "execution_count": 52,
   "metadata": {
    "colab": {
     "base_uri": "https://localhost:8080/",
     "height": 206
    },
    "colab_type": "code",
    "executionInfo": {
     "elapsed": 1632,
     "status": "ok",
     "timestamp": 1555069224297,
     "user": {
      "displayName": "Ndivhuwo Makondo",
      "photoUrl": "https://lh4.googleusercontent.com/-X1_J2aUPVDQ/AAAAAAAAAAI/AAAAAAAAEV0/vHfSwmTTQTw/s64/photo.jpg",
      "userId": "09220701882857986524"
     },
     "user_tz": -120
    },
    "id": "G87kBivSWEZP",
    "outputId": "278d8312-4f36-433a-c23d-aa6c6e04fa37"
   },
   "outputs": [
    {
     "data": {
      "text/html": [
       "<div>\n",
       "<style scoped>\n",
       "    .dataframe tbody tr th:only-of-type {\n",
       "        vertical-align: middle;\n",
       "    }\n",
       "\n",
       "    .dataframe tbody tr th {\n",
       "        vertical-align: top;\n",
       "    }\n",
       "\n",
       "    .dataframe thead th {\n",
       "        text-align: right;\n",
       "    }\n",
       "</style>\n",
       "<table border=\"1\" class=\"dataframe\">\n",
       "  <thead>\n",
       "    <tr style=\"text-align: right;\">\n",
       "      <th></th>\n",
       "      <th>ID</th>\n",
       "      <th>Description</th>\n",
       "      <th>Sequences</th>\n",
       "      <th>Labels</th>\n",
       "    </tr>\n",
       "  </thead>\n",
       "  <tbody>\n",
       "    <tr>\n",
       "      <th>0</th>\n",
       "      <td>NC_003466.1</td>\n",
       "      <td>Andes virus segment S</td>\n",
       "      <td>TAGTAGTAGACTCCTTGAGAAGCTACTGCTGCGAAAGCTGGAATGA...</td>\n",
       "      <td>0</td>\n",
       "    </tr>\n",
       "    <tr>\n",
       "      <th>1</th>\n",
       "      <td>NC_003468.2</td>\n",
       "      <td>Andes virus segment L</td>\n",
       "      <td>TAGTAGTAGACTCCGGGATAGAAAAAGTTAGAAAAATGGAAAAGTA...</td>\n",
       "      <td>0</td>\n",
       "    </tr>\n",
       "    <tr>\n",
       "      <th>2</th>\n",
       "      <td>NC_003467.2</td>\n",
       "      <td>Andes virus segment M</td>\n",
       "      <td>TAGTAGTAGACTCCGCAAGAAGAAGCAAAAAATTAAAGAAGTGAGT...</td>\n",
       "      <td>0</td>\n",
       "    </tr>\n",
       "    <tr>\n",
       "      <th>3</th>\n",
       "      <td>NC_009026.2</td>\n",
       "      <td>Bussuquara virus</td>\n",
       "      <td>AGTATTTCTTCTGCGTGAGACCATTGCGACAGTTCGTACCGGTGAG...</td>\n",
       "      <td>0</td>\n",
       "    </tr>\n",
       "    <tr>\n",
       "      <th>4</th>\n",
       "      <td>NC_004211.1</td>\n",
       "      <td>Banna virus strain JKT-6423 segment 1</td>\n",
       "      <td>GTATTAAAAATTATCAACAAGGAATGGACATTCAAGAACAATTTGA...</td>\n",
       "      <td>0</td>\n",
       "    </tr>\n",
       "  </tbody>\n",
       "</table>\n",
       "</div>"
      ],
      "text/plain": [
       "            ID                            Description  \\\n",
       "0  NC_003466.1                  Andes virus segment S   \n",
       "1  NC_003468.2                  Andes virus segment L   \n",
       "2  NC_003467.2                  Andes virus segment M   \n",
       "3  NC_009026.2                       Bussuquara virus   \n",
       "4  NC_004211.1  Banna virus strain JKT-6423 segment 1   \n",
       "\n",
       "                                           Sequences  Labels  \n",
       "0  TAGTAGTAGACTCCTTGAGAAGCTACTGCTGCGAAAGCTGGAATGA...       0  \n",
       "1  TAGTAGTAGACTCCGGGATAGAAAAAGTTAGAAAAATGGAAAAGTA...       0  \n",
       "2  TAGTAGTAGACTCCGCAAGAAGAAGCAAAAAATTAAAGAAGTGAGT...       0  \n",
       "3  AGTATTTCTTCTGCGTGAGACCATTGCGACAGTTCGTACCGGTGAG...       0  \n",
       "4  GTATTAAAAATTATCAACAAGGAATGGACATTCAAGAACAATTTGA...       0  "
      ]
     },
     "execution_count": 52,
     "metadata": {},
     "output_type": "execute_result"
    }
   ],
   "source": [
    "Zoo_data_frame = [list(x) for x in zip(Zoo_ID,Zoo_Description,Zoo_clean_sequences,Zoolabels)]\n",
    "NonZoo_data_frame = [list(x) for x in zip(NonZoo_ID,NonZoo_Description,NonZoo_clean_sequences,NonZoolabels)]\n",
    "test_data_frame = [list(x) for x in zip(test_ID,test_Description,test_clean_sequences)]\n",
    "trainlist = Zoo_data_frame + NonZoo_data_frame\n",
    "dataframe = pd.DataFrame(trainlist, columns = ['ID' , 'Description', 'Sequences', 'Labels'])\n",
    "dataframe.head()"
   ]
  },
  {
   "cell_type": "code",
   "execution_count": 53,
   "metadata": {
    "colab": {
     "base_uri": "https://localhost:8080/",
     "height": 206
    },
    "colab_type": "code",
    "executionInfo": {
     "elapsed": 1451,
     "status": "ok",
     "timestamp": 1555069241672,
     "user": {
      "displayName": "Ndivhuwo Makondo",
      "photoUrl": "https://lh4.googleusercontent.com/-X1_J2aUPVDQ/AAAAAAAAAAI/AAAAAAAAEV0/vHfSwmTTQTw/s64/photo.jpg",
      "userId": "09220701882857986524"
     },
     "user_tz": -120
    },
    "id": "AMUc8I_5WT68",
    "outputId": "c4c6cd5f-4cd7-49b8-bfb7-4af6235483e8"
   },
   "outputs": [
    {
     "data": {
      "text/html": [
       "<div>\n",
       "<style scoped>\n",
       "    .dataframe tbody tr th:only-of-type {\n",
       "        vertical-align: middle;\n",
       "    }\n",
       "\n",
       "    .dataframe tbody tr th {\n",
       "        vertical-align: top;\n",
       "    }\n",
       "\n",
       "    .dataframe thead th {\n",
       "        text-align: right;\n",
       "    }\n",
       "</style>\n",
       "<table border=\"1\" class=\"dataframe\">\n",
       "  <thead>\n",
       "    <tr style=\"text-align: right;\">\n",
       "      <th></th>\n",
       "      <th>ID</th>\n",
       "      <th>Description</th>\n",
       "      <th>Sequences</th>\n",
       "    </tr>\n",
       "  </thead>\n",
       "  <tbody>\n",
       "    <tr>\n",
       "      <th>0</th>\n",
       "      <td>NC_002728.1</td>\n",
       "      <td>Nipah virus</td>\n",
       "      <td>ACCAAACAAGGGAGAATATGGATACGTTAAAATATATAACGTATTT...</td>\n",
       "    </tr>\n",
       "    <tr>\n",
       "      <th>1</th>\n",
       "      <td>NC_005283.1</td>\n",
       "      <td>Dolphin morbillivirus</td>\n",
       "      <td>ACCAGACAAAGCTGGCTAGGGGTAGAATAACAGATAATGATAAATT...</td>\n",
       "    </tr>\n",
       "    <tr>\n",
       "      <th>2</th>\n",
       "      <td>NC_001498.1</td>\n",
       "      <td>Measles virus</td>\n",
       "      <td>ACCAAACAAAGTTGGGTAAGGATAGATCAATCAATGATCATATTCT...</td>\n",
       "    </tr>\n",
       "    <tr>\n",
       "      <th>3</th>\n",
       "      <td>NC_004148.2</td>\n",
       "      <td>Human metapneumovirus</td>\n",
       "      <td>ACGCGAAAAAAACGCGTATAAATTAAGTTACAAAAAAACATGGGAC...</td>\n",
       "    </tr>\n",
       "    <tr>\n",
       "      <th>4</th>\n",
       "      <td>NC_003266.2</td>\n",
       "      <td>Human adenovirus E</td>\n",
       "      <td>CATCATCAATAATATACCTTATTTTTTTTGTGTGAGTTAATATGCA...</td>\n",
       "    </tr>\n",
       "  </tbody>\n",
       "</table>\n",
       "</div>"
      ],
      "text/plain": [
       "            ID            Description  \\\n",
       "0  NC_002728.1            Nipah virus   \n",
       "1  NC_005283.1  Dolphin morbillivirus   \n",
       "2  NC_001498.1          Measles virus   \n",
       "3  NC_004148.2  Human metapneumovirus   \n",
       "4  NC_003266.2     Human adenovirus E   \n",
       "\n",
       "                                           Sequences  \n",
       "0  ACCAAACAAGGGAGAATATGGATACGTTAAAATATATAACGTATTT...  \n",
       "1  ACCAGACAAAGCTGGCTAGGGGTAGAATAACAGATAATGATAAATT...  \n",
       "2  ACCAAACAAAGTTGGGTAAGGATAGATCAATCAATGATCATATTCT...  \n",
       "3  ACGCGAAAAAAACGCGTATAAATTAAGTTACAAAAAAACATGGGAC...  \n",
       "4  CATCATCAATAATATACCTTATTTTTTTTGTGTGAGTTAATATGCA...  "
      ]
     },
     "execution_count": 53,
     "metadata": {},
     "output_type": "execute_result"
    }
   ],
   "source": [
    "testframe = pd.DataFrame(test_data_frame, columns = ['ID' , 'Description', 'Sequences'])\n",
    "testframe.head()"
   ]
  },
  {
   "cell_type": "code",
   "execution_count": 54,
   "metadata": {
    "colab": {
     "base_uri": "https://localhost:8080/",
     "height": 173
    },
    "colab_type": "code",
    "executionInfo": {
     "elapsed": 1842,
     "status": "ok",
     "timestamp": 1555069265355,
     "user": {
      "displayName": "Ndivhuwo Makondo",
      "photoUrl": "https://lh4.googleusercontent.com/-X1_J2aUPVDQ/AAAAAAAAAAI/AAAAAAAAEV0/vHfSwmTTQTw/s64/photo.jpg",
      "userId": "09220701882857986524"
     },
     "user_tz": -120
    },
    "id": "ECjt3LYKWYMj",
    "outputId": "c1812092-c8d9-4390-852e-efb7381a1d2b"
   },
   "outputs": [
    {
     "name": "stdout",
     "output_type": "stream",
     "text": [
      "ID             0\n",
      "Description    0\n",
      "Sequences      0\n",
      "Labels         0\n",
      "dtype: int64\n",
      "ID             0\n",
      "Description    0\n",
      "Sequences      0\n",
      "dtype: int64\n"
     ]
    }
   ],
   "source": [
    "# Check for any nulls values\n",
    "print(dataframe.isnull().sum())\n",
    "print(testframe.isnull().sum())"
   ]
  },
  {
   "cell_type": "code",
   "execution_count": 55,
   "metadata": {
    "colab": {},
    "colab_type": "code",
    "id": "DDKGxX9zWd4n"
   },
   "outputs": [
    {
     "data": {
      "text/html": [
       "<div>\n",
       "<style scoped>\n",
       "    .dataframe tbody tr th:only-of-type {\n",
       "        vertical-align: middle;\n",
       "    }\n",
       "\n",
       "    .dataframe tbody tr th {\n",
       "        vertical-align: top;\n",
       "    }\n",
       "\n",
       "    .dataframe thead th {\n",
       "        text-align: right;\n",
       "    }\n",
       "</style>\n",
       "<table border=\"1\" class=\"dataframe\">\n",
       "  <thead>\n",
       "    <tr style=\"text-align: right;\">\n",
       "      <th></th>\n",
       "      <th>Sequences</th>\n",
       "      <th>Labels</th>\n",
       "    </tr>\n",
       "  </thead>\n",
       "  <tbody>\n",
       "    <tr>\n",
       "      <th>0</th>\n",
       "      <td>TAGTAGTAGACTCCTTGAGAAGCTACTGCTGCGAAAGCTGGAATGA...</td>\n",
       "      <td>0</td>\n",
       "    </tr>\n",
       "    <tr>\n",
       "      <th>1</th>\n",
       "      <td>TAGTAGTAGACTCCGGGATAGAAAAAGTTAGAAAAATGGAAAAGTA...</td>\n",
       "      <td>0</td>\n",
       "    </tr>\n",
       "    <tr>\n",
       "      <th>2</th>\n",
       "      <td>TAGTAGTAGACTCCGCAAGAAGAAGCAAAAAATTAAAGAAGTGAGT...</td>\n",
       "      <td>0</td>\n",
       "    </tr>\n",
       "    <tr>\n",
       "      <th>3</th>\n",
       "      <td>AGTATTTCTTCTGCGTGAGACCATTGCGACAGTTCGTACCGGTGAG...</td>\n",
       "      <td>0</td>\n",
       "    </tr>\n",
       "    <tr>\n",
       "      <th>4</th>\n",
       "      <td>GTATTAAAAATTATCAACAAGGAATGGACATTCAAGAACAATTTGA...</td>\n",
       "      <td>0</td>\n",
       "    </tr>\n",
       "  </tbody>\n",
       "</table>\n",
       "</div>"
      ],
      "text/plain": [
       "                                           Sequences  Labels\n",
       "0  TAGTAGTAGACTCCTTGAGAAGCTACTGCTGCGAAAGCTGGAATGA...       0\n",
       "1  TAGTAGTAGACTCCGGGATAGAAAAAGTTAGAAAAATGGAAAAGTA...       0\n",
       "2  TAGTAGTAGACTCCGCAAGAAGAAGCAAAAAATTAAAGAAGTGAGT...       0\n",
       "3  AGTATTTCTTCTGCGTGAGACCATTGCGACAGTTCGTACCGGTGAG...       0\n",
       "4  GTATTAAAAATTATCAACAAGGAATGGACATTCAAGAACAATTTGA...       0"
      ]
     },
     "execution_count": 55,
     "metadata": {},
     "output_type": "execute_result"
    }
   ],
   "source": [
    "# remove unwanted features \n",
    "clean_data = dataframe.drop(['ID', 'Description'],1)\n",
    "clean_data.reset_index(drop=True).head()"
   ]
  },
  {
   "cell_type": "code",
   "execution_count": 56,
   "metadata": {
    "colab": {},
    "colab_type": "code",
    "id": "g6OdXQ6LWx9V"
   },
   "outputs": [
    {
     "data": {
      "text/html": [
       "<div>\n",
       "<style scoped>\n",
       "    .dataframe tbody tr th:only-of-type {\n",
       "        vertical-align: middle;\n",
       "    }\n",
       "\n",
       "    .dataframe tbody tr th {\n",
       "        vertical-align: top;\n",
       "    }\n",
       "\n",
       "    .dataframe thead th {\n",
       "        text-align: right;\n",
       "    }\n",
       "</style>\n",
       "<table border=\"1\" class=\"dataframe\">\n",
       "  <thead>\n",
       "    <tr style=\"text-align: right;\">\n",
       "      <th></th>\n",
       "      <th>Sequences</th>\n",
       "    </tr>\n",
       "  </thead>\n",
       "  <tbody>\n",
       "    <tr>\n",
       "      <th>0</th>\n",
       "      <td>ACCAAACAAGGGAGAATATGGATACGTTAAAATATATAACGTATTT...</td>\n",
       "    </tr>\n",
       "    <tr>\n",
       "      <th>1</th>\n",
       "      <td>ACCAGACAAAGCTGGCTAGGGGTAGAATAACAGATAATGATAAATT...</td>\n",
       "    </tr>\n",
       "    <tr>\n",
       "      <th>2</th>\n",
       "      <td>ACCAAACAAAGTTGGGTAAGGATAGATCAATCAATGATCATATTCT...</td>\n",
       "    </tr>\n",
       "    <tr>\n",
       "      <th>3</th>\n",
       "      <td>ACGCGAAAAAAACGCGTATAAATTAAGTTACAAAAAAACATGGGAC...</td>\n",
       "    </tr>\n",
       "    <tr>\n",
       "      <th>4</th>\n",
       "      <td>CATCATCAATAATATACCTTATTTTTTTTGTGTGAGTTAATATGCA...</td>\n",
       "    </tr>\n",
       "  </tbody>\n",
       "</table>\n",
       "</div>"
      ],
      "text/plain": [
       "                                           Sequences\n",
       "0  ACCAAACAAGGGAGAATATGGATACGTTAAAATATATAACGTATTT...\n",
       "1  ACCAGACAAAGCTGGCTAGGGGTAGAATAACAGATAATGATAAATT...\n",
       "2  ACCAAACAAAGTTGGGTAAGGATAGATCAATCAATGATCATATTCT...\n",
       "3  ACGCGAAAAAAACGCGTATAAATTAAGTTACAAAAAAACATGGGAC...\n",
       "4  CATCATCAATAATATACCTTATTTTTTTTGTGTGAGTTAATATGCA..."
      ]
     },
     "execution_count": 56,
     "metadata": {},
     "output_type": "execute_result"
    }
   ],
   "source": [
    "# remove unwanted features \n",
    "clean_test = testframe.drop(['ID', 'Description'],1)\n",
    "clean_test.reset_index(drop=True).head()"
   ]
  },
  {
   "cell_type": "markdown",
   "metadata": {
    "colab_type": "text",
    "id": "mklddOzqW-SJ"
   },
   "source": [
    "# **This is where your model starts. Train your model on clean_data dataframe and predict classes for clean_test dataframe**"
   ]
  },
  {
   "cell_type": "code",
   "execution_count": 57,
   "metadata": {
    "colab": {
     "base_uri": "https://localhost:8080/",
     "height": 206
    },
    "colab_type": "code",
    "executionInfo": {
     "elapsed": 1754,
     "status": "ok",
     "timestamp": 1555072328873,
     "user": {
      "displayName": "Ndivhuwo Makondo",
      "photoUrl": "https://lh4.googleusercontent.com/-X1_J2aUPVDQ/AAAAAAAAAAI/AAAAAAAAEV0/vHfSwmTTQTw/s64/photo.jpg",
      "userId": "09220701882857986524"
     },
     "user_tz": -120
    },
    "id": "n8fwJg5NW3CR",
    "outputId": "80a45b44-93c8-4e97-8314-05a7d41373eb"
   },
   "outputs": [
    {
     "data": {
      "text/plain": [
       "8"
      ]
     },
     "execution_count": 57,
     "metadata": {},
     "output_type": "execute_result"
    }
   ],
   "source": [
    "#clean_data.head() # Training data\n",
    "\n",
    "# Expand data from current data\n",
    "genomes_expanded = []\n",
    "labels_expanded = []\n",
    "\n",
    "def break_sequence(genome):\n",
    "    N = len(genome)\n",
    "    if N == 0:\n",
    "        return ('','')\n",
    "    STEP = 250\n",
    "    genomes = []\n",
    "    labels = []\n",
    "    \n",
    "    for i in range(0,N,STEP):\n",
    "        genomes.append(genome[i:i+STEP])\n",
    "    \n",
    "    return genomes\n",
    "\n",
    "\n",
    "clean_data['seq'] = [break_sequence(x) for x in clean_data['Sequences']]\n",
    "    \n",
    "\n",
    "\n",
    "# Create lookup map for sequences\n",
    "def create_cartesian_seq(A,G,C,T):\n",
    "    N = 256\n",
    "    a = np.row_stack((A[0],G[0],C[0],T[0]))\n",
    "    seq = np.chararray(shape=(N), unicode=True, itemsize=4)\n",
    "    for i in range(4):\n",
    "        for j in range(4):\n",
    "            for k in range(4):\n",
    "                for l in range(4): \n",
    "                    cnt = 64*(i) + 16*(j) + 4*(k) + (l)\n",
    "                    seq[cnt] = str(a[i].tostring() + a[j].tostring() + a[k].tostring() + a[l].tostring())\n",
    "    return seq\n",
    "\n",
    "A = np.chararray((4,))\n",
    "A[:] = 'A'\n",
    "G = np.chararray((4,))\n",
    "G[:] = 'G'\n",
    "C = np.chararray((4,))\n",
    "C[:] = 'C'\n",
    "T = np.chararray((4,))\n",
    "T[:] = 'T'\n",
    "\n",
    "seq = create_cartesian_seq(A,G,C,T)\n",
    "#print(seq)\n",
    "#Break genomes up in to length 4\n",
    "\n",
    "#len(clean_data.iloc[1,0])\n",
    "#clean_data.head(10)\n",
    "\n",
    "len(clean_data.loc[0,'seq'])"
   ]
  },
  {
   "cell_type": "code",
   "execution_count": 58,
   "metadata": {},
   "outputs": [],
   "source": [
    "# Apply one-hot encoding on base pairs\n",
    "def apply_encoding(genome, map_matrix):\n",
    "    N = len(genome) #length of list\n",
    "    max_len = 0\n",
    "    \n",
    "    #get longets string:\n",
    "    for i in genome:\n",
    "        if len(i) > max_len:\n",
    "            max_len = len(i)\n",
    "    \n",
    "    STEP = 4 #SIZE OF GENOME SEQUENCE TO ENCODE\n",
    "    \n",
    "    a = np.chararray((1),itemsize=4) #temp array\n",
    "    \n",
    "    nrow = min(25,max(np.floor(max_len/STEP),25))\n",
    "    ncol = map_matrix.shape[0]\n",
    "    \n",
    "    out_array = np.zeros(shape=(N,nrow,ncol))\n",
    "\n",
    "    for j in range(N):\n",
    "        string_len = len(genome[j])\n",
    "        if string_len ==0 : #Compensate for error in data\n",
    "            break\n",
    "        for i in np.arange(0,string_len,STEP):\n",
    "            if i >= 25:\n",
    "                break\n",
    "            a[0] = np.array(genome[j][i:i+STEP])\n",
    "            out_array[j,i/4,:] = np.isin(seq,a).astype(float).round(2)\n",
    "    return out_array\n",
    "\n",
    "#apply_encoding(expanded_data.loc[1,'Sequences'],seq).shape"
   ]
  },
  {
   "cell_type": "code",
   "execution_count": 59,
   "metadata": {},
   "outputs": [],
   "source": [
    "y_train = clean_data.loc[:,'Labels'].values.astype(float)\n",
    "y_train = keras.utils.np_utils.to_categorical(y_train)"
   ]
  },
  {
   "cell_type": "code",
   "execution_count": 60,
   "metadata": {},
   "outputs": [
    {
     "data": {
      "text/plain": [
       "140"
      ]
     },
     "execution_count": 60,
     "metadata": {},
     "output_type": "execute_result"
    }
   ],
   "source": [
    "clean_data.head()\n",
    "\n",
    "len(y_train)"
   ]
  },
  {
   "cell_type": "code",
   "execution_count": 61,
   "metadata": {},
   "outputs": [],
   "source": [
    "# Build input matrix for Neural Net\n",
    "\n",
    "clean_data['encodings'] = [apply_encoding(x,seq) for x in clean_data['seq']]\n",
    "\n",
    "sum_1 = 0\n",
    "for i in range(len(clean_data)):\n",
    "    sum_1 += clean_data.loc[i,'encodings'].shape[1]\n",
    "    \n",
    "X_train = np.ndarray((len(clean_data),sum_1,25,256))\n",
    "\n",
    "#clean_data.loc[1,'encodings'].shape\n",
    "for i in range(len(clean_data)):\n",
    "    for j in range(clean_data.loc[i,'encodings'].shape[0]):\n",
    "        for v in range(clean_data.loc[i,'encodings'].shape[1]):\n",
    "            X_train[i,j,:,:] = clean_data.loc[i,'encodings'][j]"
   ]
  },
  {
   "cell_type": "code",
   "execution_count": 62,
   "metadata": {},
   "outputs": [
    {
     "data": {
      "text/plain": [
       "(140, 3500, 25, 256)"
      ]
     },
     "execution_count": 62,
     "metadata": {},
     "output_type": "execute_result"
    }
   ],
   "source": [
    "#print('Y - rows : {} \\nTotal of Positives : {}'.format(y.shape[0],np.sum(y, axis=0)))\n",
    "\n",
    "#y\n",
    "#print(len(clean_data))\n",
    "#sum_1 = 0\n",
    "#for i in range(len(clean_data)):\n",
    "#    sum_1 += clean_data.loc[i,'encodings'].shape[1]\n",
    "\n",
    "#print(sum_1)\n",
    "\n",
    "#clean_data.loc[i,'encodings'].shape\n",
    "\n",
    "X_train.shape"
   ]
  },
  {
   "cell_type": "code",
   "execution_count": 63,
   "metadata": {},
   "outputs": [
    {
     "name": "stdout",
     "output_type": "stream",
     "text": [
      "WARNING:tensorflow:From /Users/vivianolivier/anaconda/lib/python2.7/site-packages/tensorflow/python/framework/op_def_library.py:263: colocate_with (from tensorflow.python.framework.ops) is deprecated and will be removed in a future version.\n",
      "Instructions for updating:\n",
      "Colocations handled automatically by placer.\n",
      "WARNING:tensorflow:From /Users/vivianolivier/anaconda/lib/python2.7/site-packages/keras/backend/tensorflow_backend.py:2837: calling dropout (from tensorflow.python.ops.nn_ops) with keep_prob is deprecated and will be removed in a future version.\n",
      "Instructions for updating:\n",
      "Please use `rate` instead of `keep_prob`. Rate should be set to `rate = 1 - keep_prob`.\n",
      "WARNING:tensorflow:From /Users/vivianolivier/anaconda/lib/python2.7/site-packages/keras/backend/tensorflow_backend.py:1168: calling reduce_prod_v1 (from tensorflow.python.ops.math_ops) with keep_dims is deprecated and will be removed in a future version.\n",
      "Instructions for updating:\n",
      "keep_dims is deprecated, use keepdims instead\n"
     ]
    }
   ],
   "source": [
    "# Construct Deep Learning Network\n",
    "\n",
    "from keras.models import Sequential, optimizers\n",
    "from keras.layers import Dense, Conv2D, MaxPooling2D, Flatten, Dropout\n",
    "\n",
    "# Deep Convolutional Neural Network\n",
    "model = Sequential()\n",
    "# Input Layer - Convolution\n",
    "model.add(Conv2D(50, (25,25),padding='same' ,activation='linear', input_shape = X_train.shape[1:]))\n",
    "model.add(MaxPooling2D(pool_size=(5, 5)))\n",
    "model.add(Dropout(0.1))\n",
    "\n",
    "# 2nd Layer\n",
    "model.add(Flatten())\n",
    "model.add(Dense(256, activation='sigmoid'))\n",
    "#3rd Layer\n",
    "model.add(Dense(100,activation='sigmoid'))\n",
    "#4th Layer\n",
    "model.add(Dense(50,activation='sigmoid'))\n",
    "# Output\n",
    "model.add(Dense(2, activation='sigmoid'))\n",
    "\n",
    "sgd = optimizers.Adam(lr=0.05, decay=1e-69)\n",
    "model.compile(optimizer=sgd, loss='mean_squared_error')"
   ]
  },
  {
   "cell_type": "code",
   "execution_count": null,
   "metadata": {},
   "outputs": [
    {
     "name": "stdout",
     "output_type": "stream",
     "text": [
      "WARNING:tensorflow:From /Users/vivianolivier/anaconda/lib/python2.7/site-packages/tensorflow/python/ops/math_ops.py:3066: to_int32 (from tensorflow.python.ops.math_ops) is deprecated and will be removed in a future version.\n",
      "Instructions for updating:\n",
      "Use tf.cast instead.\n",
      "WARNING:tensorflow:Variable *= will be deprecated. Use `var.assign(var * other)` if you want assignment to the variable value or `x = x * y` if you want a new python Tensor object.\n",
      "Train on 98 samples, validate on 42 samples\n",
      "Epoch 1/10\n"
     ]
    }
   ],
   "source": [
    "history = model.fit(X_train, y_train ,epochs=10, batch_size=4000, verbose=1, validation_split = 0.3)"
   ]
  },
  {
   "cell_type": "code",
   "execution_count": 27,
   "metadata": {},
   "outputs": [
    {
     "data": {
      "text/plain": [
       "<tf.Tensor 'strided_slice:0' shape=(?, 25, 1000) dtype=float32>"
      ]
     },
     "execution_count": 27,
     "metadata": {},
     "output_type": "execute_result"
    }
   ],
   "source": [
    "model.layers[0].output[:]"
   ]
  },
  {
   "cell_type": "code",
   "execution_count": 151,
   "metadata": {},
   "outputs": [
    {
     "data": {
      "text/plain": [
       "<Figure size 432x288 with 0 Axes>"
      ]
     },
     "metadata": {},
     "output_type": "display_data"
    },
    {
     "data": {
      "image/png": "[encoded data removed]",
      "text/plain": [
       "<Figure size 576x576 with 1 Axes>"
      ]
     },
     "metadata": {
      "needs_background": "light"
     },
     "output_type": "display_data"
    }
   ],
   "source": [
    "plt.clf()\n",
    "plt.figure(figsize=(8,8))\n",
    "plt.title('Loss value over epochs')\n",
    "plt.plot(history.history['loss'], c='tab:blue')\n",
    "plt.plot(history.history['val_loss'], c='tab:orange')\n",
    "plt.show()"
   ]
  },
  {
   "cell_type": "code",
   "execution_count": 152,
   "metadata": {},
   "outputs": [
    {
     "data": {
      "text/plain": [
       "<Figure size 432x288 with 0 Axes>"
      ]
     },
     "metadata": {},
     "output_type": "display_data"
    },
    {
     "data": {
      "text/plain": [
       "<Figure size 576x576 with 0 Axes>"
      ]
     },
     "metadata": {},
     "output_type": "display_data"
    },
    {
     "data": {
      "image/png": "[encoded data removed]",
      "text/plain": [
       "<Figure size 1152x225 with 1 Axes>"
      ]
     },
     "metadata": {},
     "output_type": "display_data"
    }
   ],
   "source": [
    "# Inspect activations\n",
    "from keras import models\n",
    "nodes = [node.output for node in model.layers[:10]]\n",
    "\n",
    "activation_model = models.Model(inputs=model.inputs, outputs=nodes)\n",
    "x = np.expand_dims(X[1,:,:], axis=0)\n",
    "activation = activation_model.predict(x)\n",
    "\n",
    "#activation[0][0,:].shape\n",
    "\n",
    "plt.clf()\n",
    "plt.figure(figsize=(8,8))\n",
    "plt.matshow(np.reshape(activation[0][0,:], newshape=(25,128)), cmap='binary')\n",
    "plt.xticks([])\n",
    "plt.yticks([])\n",
    "plt.show()"
   ]
  },
  {
   "cell_type": "code",
   "execution_count": 108,
   "metadata": {},
   "outputs": [
    {
     "data": {
      "text/plain": [
       "(25, 128)"
      ]
     },
     "execution_count": 108,
     "metadata": {},
     "output_type": "execute_result"
    }
   ],
   "source": [
    "activation[0][0].shape"
   ]
  },
  {
   "cell_type": "code",
   "execution_count": 160,
   "metadata": {
    "colab": {
     "base_uri": "https://localhost:8080/",
     "height": 206
    },
    "colab_type": "code",
    "executionInfo": {
     "elapsed": 1544,
     "status": "ok",
     "timestamp": 1555072349190,
     "user": {
      "displayName": "Ndivhuwo Makondo",
      "photoUrl": "https://lh4.googleusercontent.com/-X1_J2aUPVDQ/AAAAAAAAAAI/AAAAAAAAEV0/vHfSwmTTQTw/s64/photo.jpg",
      "userId": "09220701882857986524"
     },
     "user_tz": -120
    },
    "id": "es08YYoaiMcS",
    "outputId": "5bc910a5-09b1-488e-cac6-98ad51b5d0b3"
   },
   "outputs": [
    {
     "data": {
      "text/html": [
       "<div>\n",
       "<style scoped>\n",
       "    .dataframe tbody tr th:only-of-type {\n",
       "        vertical-align: middle;\n",
       "    }\n",
       "\n",
       "    .dataframe tbody tr th {\n",
       "        vertical-align: top;\n",
       "    }\n",
       "\n",
       "    .dataframe thead th {\n",
       "        text-align: right;\n",
       "    }\n",
       "</style>\n",
       "<table border=\"1\" class=\"dataframe\">\n",
       "  <thead>\n",
       "    <tr style=\"text-align: right;\">\n",
       "      <th></th>\n",
       "      <th>Sequences</th>\n",
       "    </tr>\n",
       "  </thead>\n",
       "  <tbody>\n",
       "    <tr>\n",
       "      <th>0</th>\n",
       "      <td>ACCAAACAAGGGAGAATATGGATACGTTAAAATATATAACGTATTT...</td>\n",
       "    </tr>\n",
       "    <tr>\n",
       "      <th>1</th>\n",
       "      <td>ACCAGACAAAGCTGGCTAGGGGTAGAATAACAGATAATGATAAATT...</td>\n",
       "    </tr>\n",
       "    <tr>\n",
       "      <th>2</th>\n",
       "      <td>ACCAAACAAAGTTGGGTAAGGATAGATCAATCAATGATCATATTCT...</td>\n",
       "    </tr>\n",
       "    <tr>\n",
       "      <th>3</th>\n",
       "      <td>ACGCGAAAAAAACGCGTATAAATTAAGTTACAAAAAAACATGGGAC...</td>\n",
       "    </tr>\n",
       "    <tr>\n",
       "      <th>4</th>\n",
       "      <td>CATCATCAATAATATACCTTATTTTTTTTGTGTGAGTTAATATGCA...</td>\n",
       "    </tr>\n",
       "  </tbody>\n",
       "</table>\n",
       "</div>"
      ],
      "text/plain": [
       "                                           Sequences\n",
       "0  ACCAAACAAGGGAGAATATGGATACGTTAAAATATATAACGTATTT...\n",
       "1  ACCAGACAAAGCTGGCTAGGGGTAGAATAACAGATAATGATAAATT...\n",
       "2  ACCAAACAAAGTTGGGTAAGGATAGATCAATCAATGATCATATTCT...\n",
       "3  ACGCGAAAAAAACGCGTATAAATTAAGTTACAAAAAAACATGGGAC...\n",
       "4  CATCATCAATAATATACCTTATTTTTTTTGTGTGAGTTAATATGCA..."
      ]
     },
     "execution_count": 160,
     "metadata": {},
     "output_type": "execute_result"
    }
   ],
   "source": [
    "clean_test.head()"
   ]
  },
  {
   "cell_type": "code",
   "execution_count": 203,
   "metadata": {},
   "outputs": [
    {
     "ename": "IndexError",
     "evalue": "index 45 is out of bounds for axis 1 with size 45",
     "output_type": "error",
     "traceback": [
      "\u001b[0;31m---------------------------------------------------------------------------\u001b[0m",
      "\u001b[0;31mIndexError\u001b[0m                                Traceback (most recent call last)",
      "\u001b[0;32m<ipython-input-203-000e47962948>\u001b[0m in \u001b[0;36m<module>\u001b[0;34m()\u001b[0m\n\u001b[1;32m      5\u001b[0m \u001b[0mX_test\u001b[0m \u001b[0;34m=\u001b[0m \u001b[0mnp\u001b[0m\u001b[0;34m.\u001b[0m\u001b[0mndarray\u001b[0m\u001b[0;34m(\u001b[0m\u001b[0;34m(\u001b[0m\u001b[0mlen\u001b[0m\u001b[0;34m(\u001b[0m\u001b[0mclean_test\u001b[0m\u001b[0;34m)\u001b[0m\u001b[0;34m,\u001b[0m\u001b[0;36m25\u001b[0m\u001b[0;34m,\u001b[0m\u001b[0;36m256\u001b[0m\u001b[0;34m)\u001b[0m\u001b[0;34m)\u001b[0m\u001b[0;34m\u001b[0m\u001b[0m\n\u001b[1;32m      6\u001b[0m \u001b[0;34m\u001b[0m\u001b[0m\n\u001b[0;32m----> 7\u001b[0;31m \u001b[0mclean_test\u001b[0m\u001b[0;34m[\u001b[0m\u001b[0;34m'encodings'\u001b[0m\u001b[0;34m]\u001b[0m \u001b[0;34m=\u001b[0m \u001b[0;34m[\u001b[0m\u001b[0mapply_encoding\u001b[0m\u001b[0;34m(\u001b[0m\u001b[0mx\u001b[0m\u001b[0;34m,\u001b[0m\u001b[0mseq\u001b[0m\u001b[0;34m)\u001b[0m \u001b[0;32mfor\u001b[0m \u001b[0mx\u001b[0m \u001b[0;32min\u001b[0m \u001b[0mclean_test\u001b[0m\u001b[0;34m[\u001b[0m\u001b[0;34m'seq'\u001b[0m\u001b[0;34m]\u001b[0m\u001b[0;34m]\u001b[0m\u001b[0;34m\u001b[0m\u001b[0m\n\u001b[0m\u001b[1;32m      8\u001b[0m \u001b[0;34m\u001b[0m\u001b[0m\n\u001b[1;32m      9\u001b[0m \u001b[0;31m#clean_test.loc[1,'encodings'].shape\u001b[0m\u001b[0;34m\u001b[0m\u001b[0;34m\u001b[0m\u001b[0m\n",
      "\u001b[0;32m<ipython-input-201-9f3482d76e42>\u001b[0m in \u001b[0;36mapply_encoding\u001b[0;34m(genome, map_matrix)\u001b[0m\n\u001b[1;32m     11\u001b[0m         \u001b[0;32mfor\u001b[0m \u001b[0mi\u001b[0m \u001b[0;32min\u001b[0m \u001b[0mnp\u001b[0m\u001b[0;34m.\u001b[0m\u001b[0marange\u001b[0m\u001b[0;34m(\u001b[0m\u001b[0;36m0\u001b[0m\u001b[0;34m,\u001b[0m\u001b[0mN\u001b[0m\u001b[0;34m,\u001b[0m\u001b[0mSTEP\u001b[0m\u001b[0;34m)\u001b[0m\u001b[0;34m:\u001b[0m\u001b[0;34m\u001b[0m\u001b[0m\n\u001b[1;32m     12\u001b[0m             \u001b[0ma\u001b[0m\u001b[0;34m[\u001b[0m\u001b[0;36m0\u001b[0m\u001b[0;34m]\u001b[0m \u001b[0;34m=\u001b[0m \u001b[0mnp\u001b[0m\u001b[0;34m.\u001b[0m\u001b[0marray\u001b[0m\u001b[0;34m(\u001b[0m\u001b[0mgenome\u001b[0m\u001b[0;34m[\u001b[0m\u001b[0mj\u001b[0m\u001b[0;34m]\u001b[0m\u001b[0;34m[\u001b[0m\u001b[0mi\u001b[0m\u001b[0;34m:\u001b[0m\u001b[0mi\u001b[0m\u001b[0;34m+\u001b[0m\u001b[0mSTEP\u001b[0m\u001b[0;34m]\u001b[0m\u001b[0;34m)\u001b[0m\u001b[0;34m\u001b[0m\u001b[0m\n\u001b[0;32m---> 13\u001b[0;31m             \u001b[0mout_array\u001b[0m\u001b[0;34m[\u001b[0m\u001b[0mj\u001b[0m\u001b[0;34m,\u001b[0m\u001b[0mi\u001b[0m\u001b[0;34m/\u001b[0m\u001b[0;36m4\u001b[0m\u001b[0;34m,\u001b[0m\u001b[0;34m:\u001b[0m\u001b[0;34m]\u001b[0m \u001b[0;34m=\u001b[0m \u001b[0mnp\u001b[0m\u001b[0;34m.\u001b[0m\u001b[0misin\u001b[0m\u001b[0;34m(\u001b[0m\u001b[0mseq\u001b[0m\u001b[0;34m,\u001b[0m\u001b[0ma\u001b[0m\u001b[0;34m)\u001b[0m\u001b[0;34m.\u001b[0m\u001b[0mastype\u001b[0m\u001b[0;34m(\u001b[0m\u001b[0mfloat\u001b[0m\u001b[0;34m)\u001b[0m\u001b[0;34m.\u001b[0m\u001b[0mround\u001b[0m\u001b[0;34m(\u001b[0m\u001b[0;36m2\u001b[0m\u001b[0;34m)\u001b[0m\u001b[0;34m\u001b[0m\u001b[0m\n\u001b[0m\u001b[1;32m     14\u001b[0m             \u001b[0;32mif\u001b[0m \u001b[0mi\u001b[0m \u001b[0;34m<\u001b[0m \u001b[0;36m25\u001b[0m\u001b[0;34m:\u001b[0m\u001b[0;34m\u001b[0m\u001b[0m\n\u001b[1;32m     15\u001b[0m                 \u001b[0;32mcontinue\u001b[0m\u001b[0;34m\u001b[0m\u001b[0m\n",
      "\u001b[0;31mIndexError\u001b[0m: index 45 is out of bounds for axis 1 with size 45"
     ]
    }
   ],
   "source": [
    "# Encode clean_test\n",
    "\n",
    "clean_test['seq'] = [break_sequence(x) for x in clean_test['Sequences']]\n",
    "\n",
    "sum_1 = 0\n",
    "for i in range(len(clean_test)):\n",
    "    sum_1 += clean_test.loc[i,'encodings'].shape[1]\n",
    "\n",
    "X_train = np.ndarray((len(clean_test),sum_1,25,256))\n",
    "\n",
    "clean_test['encodings'] = [apply_encoding(x,seq) for x in clean_test['seq']]\n",
    "\n",
    "#clean_data.loc[1,'encodings'].shape\n",
    "for i in range(len(clean_test)):\n",
    "    for j in range(clean_test.loc[i,'encodings'].shape[0]):\n",
    "        for v in range(clean_test.loc[i,'encodings'].shape[1]):\n",
    "            X_train[i,j,:,:] = clean_test.loc[i,'encodings'][j]"
   ]
  },
  {
   "cell_type": "markdown",
   "metadata": {
    "colab_type": "text",
    "id": "pB_p0JbaXs1w"
   },
   "source": [
    "# **Make predictions on test data and save to file for submission**"
   ]
  },
  {
   "cell_type": "code",
   "execution_count": 159,
   "metadata": {
    "colab": {},
    "colab_type": "code",
    "id": "TYi72wPOXtn6"
   },
   "outputs": [
    {
     "data": {
      "text/plain": [
       "array([12263., 11372.], dtype=float32)"
      ]
     },
     "execution_count": 159,
     "metadata": {},
     "output_type": "execute_result"
    }
   ],
   "source": [
    "#import random\n",
    "#y_pred_test = [random.randrange(0, 2, 1) for _ in range(60)] #Replace this with your predictions for the 60 input DNAs\n",
    "y_pred_test = model.predict(X_test)\n",
    "\n",
    "#np.sum(y_pred_test.round(),axis=0)\n"
   ]
  },
  {
   "cell_type": "code",
   "execution_count": 0,
   "metadata": {
    "colab": {},
    "colab_type": "code",
    "id": "rhL2TmbqYt3k"
   },
   "outputs": [],
   "source": [
    "y_pred = [str(x) for x in y_pred_test]\n",
    "pred_y = \",\"\n",
    "pred_y = pred_y.join(y_pred)\n",
    "with open(\"VirusesTestPrediction.fasta\",\"w+\") as o:\n",
    "    o.write(pred_y)"
   ]
  },
  {
   "cell_type": "code",
   "execution_count": 79,
   "metadata": {
    "colab": {},
    "colab_type": "code",
    "id": "Uju3-XT9ZU9H"
   },
   "outputs": [
    {
     "data": {
      "text/plain": [
       "{'A', 'B'}"
      ]
     },
     "execution_count": 79,
     "metadata": {},
     "output_type": "execute_result"
    }
   ],
   "source": []
  },
  {
   "cell_type": "code",
   "execution_count": 30,
   "metadata": {},
   "outputs": [
    {
     "data": {
      "text/plain": [
       "array([0, 0, 0, 0, 0, 0, 0, 0, 0, 0])"
      ]
     },
     "execution_count": 30,
     "metadata": {},
     "output_type": "execute_result"
    }
   ],
   "source": []
  },
  {
   "cell_type": "code",
   "execution_count": null,
   "metadata": {},
   "outputs": [],
   "source": []
  }
 ],
 "metadata": {
  "colab": {
   "collapsed_sections": [],
   "name": "IBM-Hackathon-sample-code.ipynb",
   "provenance": [],
   "toc_visible": true,
   "version": "0.3.2"
  },
  "kernelspec": {
   "display_name": "Python 2",
   "language": "python",
   "name": "python2"
  },
  "language_info": {
   "codemirror_mode": {
    "name": "ipython",
    "version": 2
   },
   "file_extension": ".py",
   "mimetype": "text/x-python",
   "name": "python",
   "nbconvert_exporter": "python",
   "pygments_lexer": "ipython2",
   "version": "2.7.15"
  }
 },
 "nbformat": 4,
 "nbformat_minor": 1
}
